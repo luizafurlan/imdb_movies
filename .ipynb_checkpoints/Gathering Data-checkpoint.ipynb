{
 "cells": [
  {
   "cell_type": "markdown",
   "id": "5c228214-f588-4be0-9935-06db8358e919",
   "metadata": {},
   "source": [
    "# Gathering Data"
   ]
  },
  {
   "cell_type": "markdown",
   "id": "0335bec0-0f00-4ccc-a79e-fdaeb11a999e",
   "metadata": {},
   "source": [
    "This notebook has the purpose of extracting and cleanning data from **imdb datasets**. The data is divided int folders, one for each year, from 1960 to 2024. Each folder has 3 datasets: imdb_movies.csv, advanced_movies_details and merged_movies_data. In this analysis, only the **merged_movies_data** will be used. "
   ]
  },
  {
   "cell_type": "markdown",
   "id": "f0090b42-8770-492c-a9b8-bd88d941169a",
   "metadata": {},
   "source": [
    "### Importing Libraries"
   ]
  },
  {
   "cell_type": "code",
   "execution_count": 157,
   "id": "e8bb75dd-27ff-4734-81c5-8997c4af2a27",
   "metadata": {},
   "outputs": [],
   "source": [
    "import numpy as np\n",
    "import pandas as pd\n",
    "import os\n",
    "import re"
   ]
  },
  {
   "cell_type": "markdown",
   "id": "c9eff009-85e1-470f-9ef0-c0abd16ae3be",
   "metadata": {},
   "source": [
    "### Defining Variables"
   ]
  },
  {
   "cell_type": "code",
   "execution_count": 158,
   "id": "25f6f149-eba7-4902-b0ba-4f941170773b",
   "metadata": {},
   "outputs": [],
   "source": [
    "root_dir = \"Data\"\n",
    "files_starts = \"merged_movies_data_\""
   ]
  },
  {
   "cell_type": "markdown",
   "id": "797d8bf6-eaa0-4ee7-94a9-90dfbc6ed8af",
   "metadata": {},
   "source": [
    "### Extracting and Aggregating"
   ]
  },
  {
   "cell_type": "code",
   "execution_count": null,
   "id": "f91fe60d-da5b-4cb3-8a26-d18a2359afd3",
   "metadata": {},
   "outputs": [],
   "source": [
    "##Creating dataframe\n",
    "merged_data = pd.DataFrame()\n",
    "\n",
    "##getting folders in root\n",
    "for folder in os.listdir(root_dir):\n",
    "    folder_path = os.path.join(root_dir, folder)\n",
    "    \n",
    "    ##acessing each folder\n",
    "    if os.path.isdir(folder_path):\n",
    "        for file in os.listdir(folder_path):\n",
    "            ##selecting the file of interest\n",
    "            if file.startswith(files_starts):\n",
    "                file_path = os.path.join(folder_path, file)\n",
    "                \n",
    "                ##reading csc\n",
    "                data = pd.read_csv(file_path)\n",
    "                \n",
    "                #Cleaning the Movie Link column\n",
    "                data['Movie Link'] = data['Movie Link'].apply(lambda x: re.sub(r'/\\?ref_=.*$', '', str(x)))\n",
    "\n",
    "                ##Extracting ID field from moview link\n",
    "                data['id'] = data['Movie Link'].apply(lambda x: x.split('/')[-1] if '/' in x else None)\n",
    "                data['id'] = data['id'].apply(lambda x: int(''.join(re.findall(r'\\d+', x))) if re.findall(r'\\d+', x) else None)\n",
    "                \n",
    "\n",
    "                ##Cleaning the Movie Title column\n",
    "                data['Title'] = data['Title'].apply(lambda x: re.sub(r'^\\d+\\.\\s*', '', str(x)).strip())\n",
    "\n",
    "                ##Concating dataframes, ignoring index\n",
    "                merged_data = pd.concat([merged_data, data], ignore_index=True)"
   ]
  },
  {
   "cell_type": "code",
   "execution_count": 160,
   "id": "3f449723-4c17-4ca1-9076-a94bd8a8eb40",
   "metadata": {},
   "outputs": [],
   "source": [
    "##Reorganizing columns order to bring ID to first column\n",
    "columns_order = ['id', 'Title'] + [col for col in merged_data.columns if col not in ['id', 'Title']]\n",
    "merged_data = merged_data[columns_order]"
   ]
  },
  {
   "cell_type": "code",
   "execution_count": 161,
   "id": "cd03819b-02b3-4fdb-8972-a4b1b28bdb51",
   "metadata": {},
   "outputs": [
    {
     "name": "stdout",
     "output_type": "stream",
     "text": [
      "Merged data shape: (33600, 24)\n"
     ]
    }
   ],
   "source": [
    "##checking dataframe size\n",
    "print(f\"Merged data shape: {merged_data.shape}\")"
   ]
  },
  {
   "cell_type": "markdown",
   "id": "0573b83d-9fc7-424a-9f6f-57ee940271ef",
   "metadata": {},
   "source": [
    "The dataframe has 33.600 lines and 24 columns."
   ]
  },
  {
   "cell_type": "code",
   "execution_count": 162,
   "id": "accfd61a-b1e8-414e-bbed-1d5cd4443ac4",
   "metadata": {},
   "outputs": [
    {
     "name": "stdout",
     "output_type": "stream",
     "text": [
      "Empty DataFrame\n",
      "Columns: [id, Title, Movie Link, Year, Duration, MPA, Rating, Votes, budget, grossWorldWide, gross_US_Canada, opening_weekend_Gross, directors, writers, stars, genres, countries_origin, filming_locations, production_companies, Languages, wins, nominations, oscars, release_date]\n",
      "Index: []\n",
      "\n",
      "[0 rows x 24 columns]\n"
     ]
    }
   ],
   "source": [
    "##Checking if there are duplicated ID in the dataframe\n",
    "duplicate_values = merged_data[merged_data['id'].duplicated()==True]\n",
    "print(duplicate_values)"
   ]
  },
  {
   "cell_type": "markdown",
   "id": "1e44740f-d428-40ab-855f-8b128a409b5b",
   "metadata": {},
   "source": [
    "There is no duplicated columns in the dataframe."
   ]
  },
  {
   "cell_type": "code",
   "execution_count": 163,
   "id": "366154f4-4c5d-4ec4-bde6-d723fbc70075",
   "metadata": {},
   "outputs": [
    {
     "data": {
      "text/html": [
       "<div>\n",
       "<style scoped>\n",
       "    .dataframe tbody tr th:only-of-type {\n",
       "        vertical-align: middle;\n",
       "    }\n",
       "\n",
       "    .dataframe tbody tr th {\n",
       "        vertical-align: top;\n",
       "    }\n",
       "\n",
       "    .dataframe thead th {\n",
       "        text-align: right;\n",
       "    }\n",
       "</style>\n",
       "<table border=\"1\" class=\"dataframe\">\n",
       "  <thead>\n",
       "    <tr style=\"text-align: right;\">\n",
       "      <th></th>\n",
       "      <th>id</th>\n",
       "      <th>Title</th>\n",
       "      <th>Movie Link</th>\n",
       "      <th>Year</th>\n",
       "      <th>Duration</th>\n",
       "      <th>MPA</th>\n",
       "      <th>Rating</th>\n",
       "      <th>Votes</th>\n",
       "      <th>budget</th>\n",
       "      <th>grossWorldWide</th>\n",
       "      <th>...</th>\n",
       "      <th>stars</th>\n",
       "      <th>genres</th>\n",
       "      <th>countries_origin</th>\n",
       "      <th>filming_locations</th>\n",
       "      <th>production_companies</th>\n",
       "      <th>Languages</th>\n",
       "      <th>wins</th>\n",
       "      <th>nominations</th>\n",
       "      <th>oscars</th>\n",
       "      <th>release_date</th>\n",
       "    </tr>\n",
       "  </thead>\n",
       "  <tbody>\n",
       "    <tr>\n",
       "      <th>0</th>\n",
       "      <td>54357</td>\n",
       "      <td>Swiss Family Robinson</td>\n",
       "      <td>https://www.imdb.com/title/tt0054357</td>\n",
       "      <td>1960</td>\n",
       "      <td>2h 6m</td>\n",
       "      <td>Approved</td>\n",
       "      <td>7.1</td>\n",
       "      <td>19K</td>\n",
       "      <td>5000000.0</td>\n",
       "      <td>40357287.0</td>\n",
       "      <td>...</td>\n",
       "      <td>['John Mills', 'Dorothy McGuire', 'James MacAr...</td>\n",
       "      <td>['Survival', 'Adventure', 'Family']</td>\n",
       "      <td>['United States']</td>\n",
       "      <td>['Tobago, Trinidad and Tobago']</td>\n",
       "      <td>['Walt Disney Productions']</td>\n",
       "      <td>['English', 'Malay']</td>\n",
       "      <td>0</td>\n",
       "      <td>0</td>\n",
       "      <td>0</td>\n",
       "      <td>1960.0</td>\n",
       "    </tr>\n",
       "    <tr>\n",
       "      <th>1</th>\n",
       "      <td>54215</td>\n",
       "      <td>Psycho</td>\n",
       "      <td>https://www.imdb.com/title/tt0054215</td>\n",
       "      <td>1960</td>\n",
       "      <td>1h 49m</td>\n",
       "      <td>R</td>\n",
       "      <td>8.5</td>\n",
       "      <td>741K</td>\n",
       "      <td>806947.0</td>\n",
       "      <td>32066835.0</td>\n",
       "      <td>...</td>\n",
       "      <td>['Anthony Perkins', 'Janet Leigh', 'Vera Miles']</td>\n",
       "      <td>['Psychological Horror', 'Psychological Thrill...</td>\n",
       "      <td>['United States']</td>\n",
       "      <td>['Psycho House and Bates Motel, Backlot Univer...</td>\n",
       "      <td>['Alfred J. Hitchcock Productions', 'Shamley P...</td>\n",
       "      <td>['English']</td>\n",
       "      <td>0</td>\n",
       "      <td>14</td>\n",
       "      <td>4</td>\n",
       "      <td>1960.0</td>\n",
       "    </tr>\n",
       "    <tr>\n",
       "      <th>2</th>\n",
       "      <td>53604</td>\n",
       "      <td>The Apartment</td>\n",
       "      <td>https://www.imdb.com/title/tt0053604</td>\n",
       "      <td>1960</td>\n",
       "      <td>2h 5m</td>\n",
       "      <td>Approved</td>\n",
       "      <td>8.3</td>\n",
       "      <td>204K</td>\n",
       "      <td>3000000.0</td>\n",
       "      <td>18778738.0</td>\n",
       "      <td>...</td>\n",
       "      <td>['Jack Lemmon', 'Shirley MacLaine', 'Fred MacM...</td>\n",
       "      <td>['Farce', 'Holiday Comedy', 'Holiday Romance',...</td>\n",
       "      <td>['United States']</td>\n",
       "      <td>['Majestic Theater, 247 West 44th Street, Manh...</td>\n",
       "      <td>['The Mirisch Corporation']</td>\n",
       "      <td>['English']</td>\n",
       "      <td>0</td>\n",
       "      <td>8</td>\n",
       "      <td>0</td>\n",
       "      <td>1960.0</td>\n",
       "    </tr>\n",
       "    <tr>\n",
       "      <th>3</th>\n",
       "      <td>54331</td>\n",
       "      <td>Spartacus</td>\n",
       "      <td>https://www.imdb.com/title/tt0054331</td>\n",
       "      <td>1960</td>\n",
       "      <td>3h 17m</td>\n",
       "      <td>PG-13</td>\n",
       "      <td>7.9</td>\n",
       "      <td>146K</td>\n",
       "      <td>12000000.0</td>\n",
       "      <td>1846975.0</td>\n",
       "      <td>...</td>\n",
       "      <td>['Kirk Douglas', 'Laurence Olivier', 'Jean Sim...</td>\n",
       "      <td>['Adventure Epic', 'Historical Epic', 'Sword &amp;...</td>\n",
       "      <td>['United States']</td>\n",
       "      <td>['Hearst Castle, San Simeon, California, USA']</td>\n",
       "      <td>['Bryna Productions']</td>\n",
       "      <td>['English']</td>\n",
       "      <td>0</td>\n",
       "      <td>11</td>\n",
       "      <td>0</td>\n",
       "      <td>1960.0</td>\n",
       "    </tr>\n",
       "    <tr>\n",
       "      <th>4</th>\n",
       "      <td>53472</td>\n",
       "      <td>Breathless</td>\n",
       "      <td>https://www.imdb.com/title/tt0053472</td>\n",
       "      <td>1960</td>\n",
       "      <td>1h 30m</td>\n",
       "      <td>Not Rated</td>\n",
       "      <td>7.7</td>\n",
       "      <td>90K</td>\n",
       "      <td>400000.0</td>\n",
       "      <td>594039.0</td>\n",
       "      <td>...</td>\n",
       "      <td>['Jean-Paul Belmondo', 'Jean Seberg', 'Van Dou...</td>\n",
       "      <td>['Caper', 'Crime', 'Drama']</td>\n",
       "      <td>['France']</td>\n",
       "      <td>['11 rue Campagne Première, Paris 14, Paris, F...</td>\n",
       "      <td>['Les Films Impéria', 'Les Productions Georges...</td>\n",
       "      <td>['French', 'English']</td>\n",
       "      <td>0</td>\n",
       "      <td>4</td>\n",
       "      <td>1</td>\n",
       "      <td>1960.0</td>\n",
       "    </tr>\n",
       "  </tbody>\n",
       "</table>\n",
       "<p>5 rows × 24 columns</p>\n",
       "</div>"
      ],
      "text/plain": [
       "      id                  Title                            Movie Link  Year  \\\n",
       "0  54357  Swiss Family Robinson  https://www.imdb.com/title/tt0054357  1960   \n",
       "1  54215                 Psycho  https://www.imdb.com/title/tt0054215  1960   \n",
       "2  53604          The Apartment  https://www.imdb.com/title/tt0053604  1960   \n",
       "3  54331              Spartacus  https://www.imdb.com/title/tt0054331  1960   \n",
       "4  53472             Breathless  https://www.imdb.com/title/tt0053472  1960   \n",
       "\n",
       "  Duration        MPA  Rating Votes      budget  grossWorldWide  ...  \\\n",
       "0    2h 6m   Approved     7.1   19K   5000000.0      40357287.0  ...   \n",
       "1   1h 49m          R     8.5  741K    806947.0      32066835.0  ...   \n",
       "2    2h 5m   Approved     8.3  204K   3000000.0      18778738.0  ...   \n",
       "3   3h 17m      PG-13     7.9  146K  12000000.0       1846975.0  ...   \n",
       "4   1h 30m  Not Rated     7.7   90K    400000.0        594039.0  ...   \n",
       "\n",
       "                                               stars  \\\n",
       "0  ['John Mills', 'Dorothy McGuire', 'James MacAr...   \n",
       "1   ['Anthony Perkins', 'Janet Leigh', 'Vera Miles']   \n",
       "2  ['Jack Lemmon', 'Shirley MacLaine', 'Fred MacM...   \n",
       "3  ['Kirk Douglas', 'Laurence Olivier', 'Jean Sim...   \n",
       "4  ['Jean-Paul Belmondo', 'Jean Seberg', 'Van Dou...   \n",
       "\n",
       "                                              genres   countries_origin  \\\n",
       "0                ['Survival', 'Adventure', 'Family']  ['United States']   \n",
       "1  ['Psychological Horror', 'Psychological Thrill...  ['United States']   \n",
       "2  ['Farce', 'Holiday Comedy', 'Holiday Romance',...  ['United States']   \n",
       "3  ['Adventure Epic', 'Historical Epic', 'Sword &...  ['United States']   \n",
       "4                        ['Caper', 'Crime', 'Drama']         ['France']   \n",
       "\n",
       "                                   filming_locations  \\\n",
       "0                    ['Tobago, Trinidad and Tobago']   \n",
       "1  ['Psycho House and Bates Motel, Backlot Univer...   \n",
       "2  ['Majestic Theater, 247 West 44th Street, Manh...   \n",
       "3     ['Hearst Castle, San Simeon, California, USA']   \n",
       "4  ['11 rue Campagne Première, Paris 14, Paris, F...   \n",
       "\n",
       "                                production_companies              Languages  \\\n",
       "0                        ['Walt Disney Productions']   ['English', 'Malay']   \n",
       "1  ['Alfred J. Hitchcock Productions', 'Shamley P...            ['English']   \n",
       "2                        ['The Mirisch Corporation']            ['English']   \n",
       "3                              ['Bryna Productions']            ['English']   \n",
       "4  ['Les Films Impéria', 'Les Productions Georges...  ['French', 'English']   \n",
       "\n",
       "  wins nominations oscars release_date  \n",
       "0    0           0      0       1960.0  \n",
       "1    0          14      4       1960.0  \n",
       "2    0           8      0       1960.0  \n",
       "3    0          11      0       1960.0  \n",
       "4    0           4      1       1960.0  \n",
       "\n",
       "[5 rows x 24 columns]"
      ]
     },
     "execution_count": 163,
     "metadata": {},
     "output_type": "execute_result"
    }
   ],
   "source": [
    "##displaying data\n",
    "merged_data.head()"
   ]
  },
  {
   "cell_type": "markdown",
   "id": "d4d74eff-f640-4ee6-b46a-ae27c5ae4c63",
   "metadata": {},
   "source": [
    "### Loading the new dataframe"
   ]
  },
  {
   "cell_type": "markdown",
   "id": "a4eb6fab-0b06-4956-a056-d2375d36a7f9",
   "metadata": {},
   "source": [
    "The output will be saved in a new dataframe to facilitate cleaning and further analysis."
   ]
  },
  {
   "cell_type": "code",
   "execution_count": 166,
   "id": "828d8563-ea51-4cba-8605-34f1e99c171a",
   "metadata": {},
   "outputs": [],
   "source": [
    "merged_data.to_csv('Final Dataset/final_dataset.csv', index=False)"
   ]
  }
 ],
 "metadata": {
  "kernelspec": {
   "display_name": "Python 3 (ipykernel)",
   "language": "python",
   "name": "python3"
  },
  "language_info": {
   "codemirror_mode": {
    "name": "ipython",
    "version": 3
   },
   "file_extension": ".py",
   "mimetype": "text/x-python",
   "name": "python",
   "nbconvert_exporter": "python",
   "pygments_lexer": "ipython3",
   "version": "3.13.1"
  }
 },
 "nbformat": 4,
 "nbformat_minor": 5
}
